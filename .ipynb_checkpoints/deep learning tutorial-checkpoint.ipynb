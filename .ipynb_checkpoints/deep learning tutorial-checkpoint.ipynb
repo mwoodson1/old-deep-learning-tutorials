{
 "cells": [
  {
   "cell_type": "markdown",
   "metadata": {},
   "source": [
    "# Intro to Deep Learning\n",
    "My hope is that this will be a good introduction to what deep learning is, what the objective of it is, how to use it, when to use it, and many of its derivative algorithms.\n",
    "\n",
    "## Perceptron\n",
    "The basic unit of a neural network is the perceptron displayed below. It takes in a variable amount of inputs, aggregates them according to the  sum function and then produces an output depending on the the activaton function.\n",
    "![Perceptron](img191.gif)\n",
    "\n",
    "So you have an input vector $X$, a set of weights $W$ that place a weight on each $x_i \\in X$ and a activation function $f_i$ which determines if the perceptron will output a 1 or 0(in the binary case). \n",
    "\n",
    "The learning algorithm for a perceptron is rather simple and you can read a complete description [here](https://en.wikipedia.org/wiki/Perceptron#Learning_algorithm). The idea is:\n",
    "\n",
    "1. Randomly initialize the weights.\n",
    "2. For 1 training example calculate $y_i = f_i (f(X*W))$.\n",
    "3. $w_inew = w_i + \\alpha * t_j-y_i$ (update the weight with the difference between the target and the actual output scaled by some learning rate alpha.\n",
    "\n",
    "## Multi-layer Perceptrons (Neural Networks)\n",
    "The basic kind of neural network is the multi-layer perceptron(MLP). Simply stated it is just a network of layers of perceptrons. An example is shown below.\n",
    "![Multi-layer Perceptron](MLFNwithWeights.jpg)\n",
    "\n",
    "Now we have a matrix $Wi$ between each layer of perceptrons with $w_{ij} \\in W$ being the weight between node $i$ in the pervious layer to node $j$ in the next. Each node still has an activation function but now we can have more non-linearity introduced as the output is now a non-linear combination of a non-linear combination of the inputs. The training procedure for this type of network is more complex than the simple perceptron learning algorithm. It is called backpropogation and is talked about further below.\n",
    "\n",
    "## Backpropogation\n",
    "The training procedure for a multi-layey proceptron is considerably more complex. The process is called backpropogation. The procedure is explained EXCELENTLY [here](http://iamtrask.github.io/2015/07/12/basic-python-network/) and I highly reccomend going through the exercise of implementing it yourself. I have also included my own notes here<insert link> which will give a good review of backpropogation for fully connected neural network units.\n",
    "\n",
    "The basic idea is to perform forward propogation which is to simply run a training test case through the network and get an output. If it is incorrect then calculate the the error with respect to a particular node. This is done by going backwards through the layers and calculating the partial derivative of the error with respect to the output of the nonlinear activation function $f_i$ of the node in consideration. This error then gets propogated to the previous layers nodes who connected to it. Below will be some example code that is in the link above but I will attempt to summarize the work quickly with a simple example."
   ]
  },
  {
   "cell_type": "code",
   "execution_count": 7,
   "metadata": {
    "collapsed": false
   },
   "outputs": [
    {
     "data": {
      "text/plain": [
       "<matplotlib.text.Text at 0x7fa7b6ceab10>"
      ]
     },
     "execution_count": 7,
     "metadata": {},
     "output_type": "execute_result"
    },
    {
     "data": {
      "image/png": "[encoded data removed]",
      "text/plain": [
       "<matplotlib.figure.Figure at 0x7fa7b6cf6c50>"
      ]
     },
     "metadata": {},
     "output_type": "display_data"
    }
   ],
   "source": [
    "%matplotlib inline  \n",
    "import numpy as np   \n",
    "import matplotlib  \n",
    "import matplotlib.pyplot as plt \n",
    "\n",
    "'''\n",
    "This will be our activation function which is a sigmoid(plotted below). \n",
    "When doing backpropogation we will need to take the derivative of this\n",
    "function so we take in a input to make it easier to do so\n",
    "'''\n",
    "def sigmoid(x,deriv=False):\n",
    "    if(deriv==True):\n",
    "        return x*(1-x)\n",
    "    return 1/(1+np.exp(-x))\n",
    "\n",
    "x = np.linspace(-5.0,5.0,400)\n",
    "y = sigmoid(x)\n",
    "\n",
    "plt.plot(x,y)\n",
    "plt.title(\"Sigmoid Activation Function\")\n",
    "plt.xlabel(\"x\")\n",
    "plt.ylabel(\"y\")"
   ]
  },
  {
   "cell_type": "markdown",
   "metadata": {},
   "source": [
    "The sigmoid activation function is the simplest type of activation function but since it's inception there have been many many more types of activation functions that include \n",
    "- Tanh\n",
    "- Linear\n",
    "- Step\n",
    "- Rectified linear\n",
    "- Exponential linear\n",
    "\n",
    "Using a different function is not hard as long as you can provide the derivative of that function as well. Nothing complicated here."
   ]
  },
  {
   "cell_type": "code",
   "execution_count": 8,
   "metadata": {
    "collapsed": true
   },
   "outputs": [],
   "source": [
    "# input dataset\n",
    "X = np.array([  [0,0,1],\n",
    "                [0,1,1],\n",
    "                [1,0,1],\n",
    "                [1,1,1] ])\n",
    " \n",
    "# output dataset           \n",
    "y = np.array([[0,0,1,1]]).T\n",
    "\n",
    "#It's always good practice to seed your random number generator\n",
    "np.random.seed(1)"
   ]
  },
  {
   "cell_type": "markdown",
   "metadata": {},
   "source": [
    "## Weight Initialization\n",
    "Here we are just goiing to initialize the weights of our 3 layer network randomly with mean 0. Note that this is not the only way to initialize the weights. If you know something about the data you are working with there might be a better way to initialize them. Other initialization processes also do exist but the purpose of them all is the same, set all the weights to something either completely random or closer to what they should be after convergence."
   ]
  },
  {
   "cell_type": "code",
   "execution_count": 9,
   "metadata": {
    "collapsed": true
   },
   "outputs": [],
   "source": [
    "W0 = 2*np.random.random((3,4)) - 1\n",
    "W1 = 2*np.random.random((4,1)) - 1"
   ]
  },
  {
   "cell_type": "markdown",
   "metadata": {},
   "source": [
    "## Forward Propogation\n",
    "This is the simple part of the training process. Take your data and run it through the network to get an output. This is as simple as multiplying matrices. Write out the matrix math and confirm that this is the case."
   ]
  },
  {
   "cell_type": "code",
   "execution_count": 11,
   "metadata": {
    "collapsed": false
   },
   "outputs": [],
   "source": [
    "l0 = X                       #first layer is input data\n",
    "l1 = sigmoid(np.dot(l0,W0))   #multiply inputs by the weights to the first layer\n",
    "l2 = sigmoid(np.dot(l1,W1))   #multiply the outputs from the previous layer by the\n",
    "                             #weights of the last layer"
   ]
  },
  {
   "cell_type": "markdown",
   "metadata": {},
   "source": [
    "## Error Calculation\n",
    "This is another step that has many solutions. We need to calculate the error we have made with the network we have. We could use MSE, entropy, cross-categorical entropy, or any other type of error function you can define. For simplicities sake we will stick with raw difference as our error."
   ]
  },
  {
   "cell_type": "code",
   "execution_count": 12,
   "metadata": {
    "collapsed": true
   },
   "outputs": [],
   "source": [
    "l2_error = y - l2"
   ]
  },
  {
   "cell_type": "markdown",
   "metadata": {},
   "source": [
    "## Backpropogation\n",
    "Once we have the error we can start backpropogation. Thhe first step here is to take the derivative of our error with respect to the second layers weights."
   ]
  },
  {
   "cell_type": "code",
   "execution_count": 14,
   "metadata": {
    "collapsed": false
   },
   "outputs": [],
   "source": [
    "l2_delta = l2_error*sigmoid(l2,deriv=True)"
   ]
  },
  {
   "cell_type": "markdown",
   "metadata": {},
   "source": [
    "Now we propogate this error to the first layer to see how much the first layer contributed to the error."
   ]
  },
  {
   "cell_type": "code",
   "execution_count": 16,
   "metadata": {
    "collapsed": false
   },
   "outputs": [],
   "source": [
    "l1_error = l2_delta.dot(W1.T)\n",
    "l1_delta = l1_error * sigmoid(l1,deriv=True)"
   ]
  },
  {
   "cell_type": "markdown",
   "metadata": {},
   "source": [
    "And finally we can update the weights in many ways as well. The way chosen here is the simplest but by far not the best way to do things."
   ]
  },
  {
   "cell_type": "code",
   "execution_count": 17,
   "metadata": {
    "collapsed": true
   },
   "outputs": [],
   "source": [
    "W1 += l1.T.dot(l2_delta)\n",
    "W0 += l0.T.dot(l1_delta)"
   ]
  },
  {
   "cell_type": "markdown",
   "metadata": {},
   "source": [
    "## Put it together\n",
    "We just went through 1 iteration but that is almost always not enough. We must repeat this process until a convergence criteria is met. This will minimize your error. A for loop over a lot of iterations is simple enough to do but again, better methods exist."
   ]
  },
  {
   "cell_type": "code",
   "execution_count": 18,
   "metadata": {
    "collapsed": false
   },
   "outputs": [
    {
     "name": "stdout",
     "output_type": "stream",
     "text": [
      "Error:0.464193701547\n",
      "Error:0.00500215791205\n",
      "Error:0.00345431369834\n",
      "Error:0.00278650792965\n",
      "Error:0.00239408397566\n",
      "Error:0.00212886289005\n"
     ]
    }
   ],
   "source": [
    "for j in xrange(60000):\n",
    "    l0 = X                       #first layer is input data\n",
    "    l1 = sigmoid(np.dot(l0,W0))   #multiply inputs by the weights to the first layer\n",
    "    l2 = sigmoid(np.dot(l1,W1))   #multiply the outputs from the previous layer by the\n",
    "                                 #weights of the last layer\n",
    "    l2_error = y - l2\n",
    "    \n",
    "    if(j%10000) == 0:\n",
    "        print \"Error:\" + str(np.mean(np.abs(l2_error)))\n",
    "    \n",
    "    l2_delta = l2_error*sigmoid(l2,deriv=True)\n",
    "    \n",
    "    l1_error = l2_delta.dot(W1.T)\n",
    "    l1_delta = l1_error * sigmoid(l1,deriv=True)\n",
    "    \n",
    "    W1 += l1.T.dot(l2_delta)\n",
    "    W0 += l0.T.dot(l1_delta)"
   ]
  },
  {
   "cell_type": "markdown",
   "metadata": {
    "collapsed": true
   },
   "source": [
    "If you still have any questions or concerns check out some of my other tutorials where I also link to some amazing online resources which may be of help too!"
   ]
  },
  {
   "cell_type": "code",
   "execution_count": null,
   "metadata": {
    "collapsed": true
   },
   "outputs": [],
   "source": []
  }
 ],
 "metadata": {
  "kernelspec": {
   "display_name": "Python 2",
   "language": "python",
   "name": "python2"
  },
  "language_info": {
   "codemirror_mode": {
    "name": "ipython",
    "version": 2
   },
   "file_extension": ".py",
   "mimetype": "text/x-python",
   "name": "python",
   "nbconvert_exporter": "python",
   "pygments_lexer": "ipython2",
   "version": "2.7.6"
  }
 },
 "nbformat": 4,
 "nbformat_minor": 0
}
